{
  "nbformat": 4,
  "nbformat_minor": 0,
  "metadata": {
    "colab": {
      "name": "FT_SOMMELIER_V5.ipynb",
      "provenance": [],
      "collapsed_sections": []
    },
    "kernelspec": {
      "name": "python3",
      "display_name": "Python 3"
    }
  },
  "cells": [
    {
      "cell_type": "code",
      "metadata": {
        "id": "xpZjlQx2lrpq",
        "colab_type": "code",
        "colab": {}
      },
      "source": [
        "import os\n",
        "import math\n",
        "import random\n",
        "import pandas as pd\n",
        "import matplotlib.pyplot as plt\n",
        "import matplotlib.image as mpimg # used to create png image files"
      ],
      "execution_count": 0,
      "outputs": []
    },
    {
      "cell_type": "code",
      "metadata": {
        "id": "Eud-IEsol1a8",
        "colab_type": "code",
        "outputId": "b2d722c0-1a63-4edc-828d-da5d86c691f3",
        "colab": {
          "base_uri": "https://localhost:8080/",
          "height": 121
        }
      },
      "source": [
        "from google.colab import drive\n",
        "drive.mount('/content/drive')\n",
        "wine_data = pd.read_csv(\"/content/drive/My Drive/Colab Notebooks/winequality-red.csv\", sep=';')"
      ],
      "execution_count": 2,
      "outputs": [
        {
          "output_type": "stream",
          "text": [
            "Go to this URL in a browser: https://accounts.google.com/o/oauth2/auth?client_id=947318989803-6bn6qk8qdgf4n4g3pfee6491hc0brc4i.apps.googleusercontent.com&redirect_uri=urn%3Aietf%3Awg%3Aoauth%3A2.0%3Aoob&scope=email%20https%3A%2F%2Fwww.googleapis.com%2Fauth%2Fdocs.test%20https%3A%2F%2Fwww.googleapis.com%2Fauth%2Fdrive%20https%3A%2F%2Fwww.googleapis.com%2Fauth%2Fdrive.photos.readonly%20https%3A%2F%2Fwww.googleapis.com%2Fauth%2Fpeopleapi.readonly&response_type=code\n",
            "\n",
            "Enter your authorization code:\n",
            "··········\n",
            "Mounted at /content/drive\n"
          ],
          "name": "stdout"
        }
      ]
    },
    {
      "cell_type": "markdown",
      "metadata": {
        "id": "J3IjC7e_mAhx",
        "colab_type": "text"
      },
      "source": [
        "## **V.5 Adventures in the Nth dimension**"
      ]
    },
    {
      "cell_type": "code",
      "metadata": {
        "id": "Rs59DUyhm9O9",
        "colab_type": "code",
        "colab": {}
      },
      "source": [
        "def ft_dot(a, b):\n",
        "    result = 0\n",
        "    for i in range(len(a)):\n",
        "        result += a[i] * b[i]   \n",
        "    return result"
      ],
      "execution_count": 0,
      "outputs": []
    },
    {
      "cell_type": "code",
      "metadata": {
        "id": "iR_kC54Bm9LY",
        "colab_type": "code",
        "colab": {}
      },
      "source": [
        "class Adaline(object):\n",
        "  def __init__(self, lr):\n",
        "    self.w = None\n",
        "    self.lr = lr\n",
        "    self.stats = []\n",
        "\n",
        "  def _net_input(self, X):\n",
        "    return ft_dot(self.w, X)\n",
        "\n",
        "  def _activation_function(self, X):\n",
        "    net_input = self._net_input(X)\n",
        "    return 1 / (1 + math.exp(-net_input))\n",
        "\n",
        "  def predict(self, X):\n",
        "    return 1 if self._activation_function(X) > 0.5 else 0\n",
        "\n",
        "  def _eval_epoch(self, X, y):\n",
        "    num_misclass = 0\n",
        "    for xi, yi in zip(X, y):\n",
        "      num_misclass += int(self.predict(xi) != int(yi))\n",
        "    return num_misclass\n",
        "\n",
        "  def _train_epoch(self, X, y, epoch, mode, verbose):\n",
        "    # m length vector of errors of all samples\n",
        "    # continuous error\n",
        "    epoch_errors = []\n",
        "\n",
        "    # zip returns a row of matrix X and an element of vector y\n",
        "    for xi, yi in zip(X, y):\n",
        "      yhat = self._activation_function(xi)\n",
        "      error = yi - yhat\n",
        "      epoch_errors.append(error)\n",
        "\n",
        "      # stochastic\n",
        "      # note, we do not aggregate the error over the entire training sample\n",
        "      if mode == 'online':\n",
        "        self.w += self.lr * error * xi\n",
        "\n",
        "    if mode == 'batch':\n",
        "      self.w += self.lr * ft_dot(X, epoch_errors)\n",
        "\n",
        "    num_misclass = self._eval_epoch(X, y)\n",
        "    if verbose and epoch % 10 == 0:\n",
        "      print('Epoch {}: {} errors'.format(epoch, num_misclass))\n",
        "    self.stats.append((epoch, num_misclass, self.w))\n",
        "    return epoch_errors\n",
        "\n",
        "  def train(self, X, y, epochs, mode='batch', verbose=False, seed=None):\n",
        "    if seed:\n",
        "      random.seed(seed)\n",
        "    if self.w is None:\n",
        "      self.w = [0.001 * random.uniform(-1, 1) for i in range(X.shape[1])]\n",
        "    epoch = 0\n",
        "    while True:\n",
        "      epoch_errors = self._train_epoch(X, y, epoch, mode, verbose)\n",
        "      epoch += 1\n",
        "      if epochs != 0 and epoch == epochs:\n",
        "        break\n",
        "      elif epochs == 0 and epoch_errors == 45: # this will never happen under pure adaline !!!\n",
        "        break\n",
        "    return self.stats\n",
        "\n",
        "  def test_accuracy(self, X, y):\n",
        "    num_correct = 0\n",
        "    for xi, yi in zip(X, y):\n",
        "      num_correct += int(int(yi) == self.predict(xi))\n",
        "    accuracy = num_correct / len(y)\n",
        "    print('Test accuracy {} {} {}%'.format(num_correct, len(y), 100*accuracy))\n",
        "    return accuracy"
      ],
      "execution_count": 0,
      "outputs": []
    },
    {
      "cell_type": "code",
      "metadata": {
        "id": "B90p_C2Zm9IC",
        "colab_type": "code",
        "colab": {}
      },
      "source": [
        "def feature_scaling(series):\n",
        "  return (series - series.mean()) / (series.max() - series.min())"
      ],
      "execution_count": 0,
      "outputs": []
    },
    {
      "cell_type": "code",
      "metadata": {
        "id": "F8XnmOXFm9BA",
        "colab_type": "code",
        "colab": {}
      },
      "source": [
        "def k_fold_split(data, k, shuffle=True):\n",
        "  folds = []\n",
        "  if shuffle:\n",
        "    data = data.sample(frac=1).reset_index(drop=True)\n",
        "    # sampling 100% here\n",
        "\n",
        "  for i in range(k):\n",
        "    size = data.shape[0] // k + 1 if i < data.shape[0] % k else data.shape[0] // k\n",
        "    test_data = data.iloc[i * size: (i + 1) * size, :]\n",
        "    train_data = data.iloc[data.index.difference(test_data.index), :]\n",
        "    folds.append((train_data, test_data))\n",
        "  return folds"
      ],
      "execution_count": 0,
      "outputs": []
    },
    {
      "cell_type": "code",
      "metadata": {
        "id": "tCt5GRZcnX97",
        "colab_type": "code",
        "colab": {}
      },
      "source": [
        "def k_fold_adaline(folds, features, lr=0.05, epochs=500, mode='batch', verbose=False):\n",
        "  sum_accuracy = 0\n",
        "\n",
        "  for i, fold in enumerate(folds):\n",
        "    X_train = fold[0][features]\n",
        "    y_train = fold[0]['y']\n",
        "    ad = Adaline(lr=lr)\n",
        "    train_stats = ad.train(X_train.values, y_train.values, epochs, mode, verbose)\n",
        "    X_test = fold[1][features]\n",
        "    y_test = fold[1]['y']\n",
        "    accuracy = ad.test_accuracy(X_test.values, y_test.values)\n",
        "    sum_accuracy += accuracy\n",
        "\n",
        "  print('K Fold: Mean accuracy {0:.3f}'.format(sum_accuracy / len(folds)))"
      ],
      "execution_count": 0,
      "outputs": []
    },
    {
      "cell_type": "markdown",
      "metadata": {
        "id": "gM8LvlBemAeR",
        "colab_type": "text"
      },
      "source": [
        "a) Try training your perceptron/ADALINE with different numbers and types of chemical factors. Under what circumstances can your perceptron/ADALINE successfully train?"
      ]
    },
    {
      "cell_type": "code",
      "metadata": {
        "id": "ulKTq4uKl3Ba",
        "colab_type": "code",
        "colab": {}
      },
      "source": [
        "good_threshold = 8\n",
        "bad_threshold = 3\n",
        "selected_wine_data = wine_data[(wine_data['quality'] >= good_threshold) | (wine_data['quality'] <= bad_threshold)]\n",
        "selected_wine_data = selected_wine_data.assign(y = pd.Series(selected_wine_data['quality'] >= good_threshold))\n",
        "\n",
        "# feature scaling, applied only to X inputs, not to y targets !\n",
        "selected_wine_data['pH'] = feature_scaling(selected_wine_data['pH'])\n",
        "selected_wine_data['alcohol'] = feature_scaling(selected_wine_data['alcohol'])\n"
      ],
      "execution_count": 0,
      "outputs": []
    },
    {
      "cell_type": "code",
      "metadata": {
        "id": "ksjijhrFn31n",
        "colab_type": "code",
        "outputId": "8c968a03-3080-45fb-d301-880a9e8cdb25",
        "colab": {
          "base_uri": "https://localhost:8080/",
          "height": 34
        }
      },
      "source": [
        "num_folds = 5\n",
        "folds = k_fold_split(selected_wine_data, num_folds)\n",
        "\n",
        "print('train, val lengths for {} folds: {}'.format(\n",
        "    num_folds, [(len(train), len(val)) for train, val in folds]))"
      ],
      "execution_count": 10,
      "outputs": [
        {
          "output_type": "stream",
          "text": [
            "train, val lengths for 5 folds: [(22, 6), (22, 6), (22, 6), (23, 5), (23, 5)]\n"
          ],
          "name": "stdout"
        }
      ]
    },
    {
      "cell_type": "code",
      "metadata": {
        "id": "uzNGmXXXmI5q",
        "colab_type": "code",
        "outputId": "7b13e253-3d33-4b8c-80cc-e5a2531e8003",
        "colab": {
          "base_uri": "https://localhost:8080/",
          "height": 118
        }
      },
      "source": [
        "# ADD 'volatile acidity'\n",
        "\n",
        "features = ['pH', 'alcohol', 'volatile acidity']\n",
        "lr = .005\n",
        "epochs = 200\n",
        "mode = 'batch'\n",
        "k_fold_adaline(folds, features, lr=lr, epochs=epochs, mode=mode, verbose=False)\n"
      ],
      "execution_count": 11,
      "outputs": [
        {
          "output_type": "stream",
          "text": [
            "Test accuracy 2 6 33.33333333333333%\n",
            "Test accuracy 5 6 83.33333333333334%\n",
            "Test accuracy 6 6 100.0%\n",
            "Test accuracy 5 5 100.0%\n",
            "Test accuracy 4 5 80.0%\n",
            "K Fold: Mean accuracy 0.793\n"
          ],
          "name": "stdout"
        }
      ]
    },
    {
      "cell_type": "code",
      "metadata": {
        "id": "oibkRBmrmI25",
        "colab_type": "code",
        "outputId": "a1ded83e-38fd-4244-d263-ad5c892a67b3",
        "colab": {
          "base_uri": "https://localhost:8080/",
          "height": 118
        }
      },
      "source": [
        "# ADD 'sulphates'\n",
        "\n",
        "features = ['pH', 'alcohol', 'volatile acidity', 'sulphates']\n",
        "lr = .005\n",
        "epochs = 200\n",
        "mode = 'batch'\n",
        "k_fold_adaline(folds, features, lr=lr, epochs=epochs, mode=mode, verbose=False)\n"
      ],
      "execution_count": 12,
      "outputs": [
        {
          "output_type": "stream",
          "text": [
            "Test accuracy 6 6 100.0%\n",
            "Test accuracy 4 6 66.66666666666666%\n",
            "Test accuracy 6 6 100.0%\n",
            "Test accuracy 4 5 80.0%\n",
            "Test accuracy 5 5 100.0%\n",
            "K Fold: Mean accuracy 0.893\n"
          ],
          "name": "stdout"
        }
      ]
    },
    {
      "cell_type": "code",
      "metadata": {
        "id": "NgCUM3j5mIy7",
        "colab_type": "code",
        "outputId": "b4161dae-e917-45c7-d395-0ff30204c5a7",
        "colab": {
          "base_uri": "https://localhost:8080/",
          "height": 118
        }
      },
      "source": [
        "# ADD 'fixed acidity'\n",
        "\n",
        "features = ['pH', 'alcohol', 'volatile acidity', 'fixed acidity']\n",
        "lr = .005\n",
        "epochs = 200\n",
        "mode = 'batch'\n",
        "k_fold_adaline(folds, features, lr=lr, epochs=epochs, mode=mode, verbose=False)\n"
      ],
      "execution_count": 13,
      "outputs": [
        {
          "output_type": "stream",
          "text": [
            "Test accuracy 5 6 83.33333333333334%\n",
            "Test accuracy 3 6 50.0%\n",
            "Test accuracy 6 6 100.0%\n",
            "Test accuracy 4 5 80.0%\n",
            "Test accuracy 5 5 100.0%\n",
            "K Fold: Mean accuracy 0.827\n"
          ],
          "name": "stdout"
        }
      ]
    },
    {
      "cell_type": "code",
      "metadata": {
        "id": "FBfVKX7UmvLt",
        "colab_type": "code",
        "outputId": "40607d38-4896-4093-fc8a-854b4b0c5df3",
        "colab": {
          "base_uri": "https://localhost:8080/",
          "height": 118
        }
      },
      "source": [
        "# ONLY 'volatile acidity' and 'fixed acidity'\n",
        "\n",
        "features = ['volatile acidity', 'fixed acidity']\n",
        "lr = .005\n",
        "epochs = 200\n",
        "mode = 'batch'\n",
        "k_fold_adaline(folds, features, lr=lr, epochs=epochs, mode=mode, verbose=False)\n",
        "\n"
      ],
      "execution_count": 14,
      "outputs": [
        {
          "output_type": "stream",
          "text": [
            "Test accuracy 3 6 50.0%\n",
            "Test accuracy 2 6 33.33333333333333%\n",
            "Test accuracy 6 6 100.0%\n",
            "Test accuracy 4 5 80.0%\n",
            "Test accuracy 5 5 100.0%\n",
            "K Fold: Mean accuracy 0.727\n"
          ],
          "name": "stdout"
        }
      ]
    },
    {
      "cell_type": "markdown",
      "metadata": {
        "id": "gSBsPSC5pGzW",
        "colab_type": "text"
      },
      "source": [
        "Under the scenario when I include the following features: pH, alcohol, volatile acidity, and sulphates, the accuracy under validation data went up to 90%"
      ]
    },
    {
      "cell_type": "markdown",
      "metadata": {
        "id": "IAIvZpEMmJ4R",
        "colab_type": "text"
      },
      "source": [
        "b) You know what the decision boundary for 2 wine chemical factors looks like, but what does the decision boundary for 3 factors look like? What about if you use 7 factors? How about if you use all 11 wine chemical factors?"
      ]
    },
    {
      "cell_type": "markdown",
      "metadata": {
        "id": "DiKLYSeMp1dT",
        "colab_type": "text"
      },
      "source": [
        "The decision boundary is a 2 dimensional hyperplace when we have 3 factors.\n",
        "\n",
        "The decision boundary is a 6 dimensional hyperplace when we have 7 factors.\n",
        "\n",
        "The decision boundary is a 10 dimensional hyperplace when we have 11 factors.\n",
        "\n",
        "The decision boundary is a (n - 1) dimensional hyperplace when we have n factors.\n"
      ]
    },
    {
      "cell_type": "code",
      "metadata": {
        "id": "Y6WoUaG1qM2m",
        "colab_type": "code",
        "colab": {}
      },
      "source": [
        ""
      ],
      "execution_count": 0,
      "outputs": []
    }
  ]
}