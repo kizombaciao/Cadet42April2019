{
  "nbformat": 4,
  "nbformat_minor": 0,
  "metadata": {
    "colab": {
      "name": "FT_SOMMELIER_BONUS_3D_Plot.ipynb",
      "provenance": [],
      "collapsed_sections": []
    },
    "kernelspec": {
      "name": "python3",
      "display_name": "Python 3"
    }
  },
  "cells": [
    {
      "cell_type": "code",
      "metadata": {
        "id": "YlCcmGywwzJV",
        "colab_type": "code",
        "colab": {}
      },
      "source": [
        "# https://www.desmos.com/calculator"
      ],
      "execution_count": 0,
      "outputs": []
    },
    {
      "cell_type": "markdown",
      "metadata": {
        "id": "osi3Fz0cxC9f",
        "colab_type": "text"
      },
      "source": [
        "## **VI.3 3-D PLOT**"
      ]
    },
    {
      "cell_type": "code",
      "metadata": {
        "id": "IWMWJVS0xJoD",
        "colab_type": "code",
        "colab": {}
      },
      "source": [
        "import os\n",
        "import math\n",
        "import random\n",
        "import pandas as pd\n",
        "import matplotlib.pyplot as plt\n",
        "import matplotlib.image as mpimg # used to create png image files"
      ],
      "execution_count": 0,
      "outputs": []
    },
    {
      "cell_type": "code",
      "metadata": {
        "id": "QKhP8UgS0kT9",
        "colab_type": "code",
        "colab": {}
      },
      "source": [
        "from mpl_toolkits.mplot3d import Axes3D\n",
        "import matplotlib.pyplot as plt\n",
        "import numpy as np\n",
        "# %matplotlib notebook"
      ],
      "execution_count": 0,
      "outputs": []
    },
    {
      "cell_type": "code",
      "metadata": {
        "id": "hRKfqp-AxKsE",
        "colab_type": "code",
        "outputId": "5f91fc7e-d9c6-46dd-c59d-6eeb34ae1ea6",
        "colab": {
          "base_uri": "https://localhost:8080/",
          "height": 121
        }
      },
      "source": [
        "from google.colab import drive\n",
        "drive.mount('/content/drive')\n",
        "wine_data = pd.read_csv(\"/content/drive/My Drive/Colab Notebooks/winequality-red.csv\", sep=';')"
      ],
      "execution_count": 3,
      "outputs": [
        {
          "output_type": "stream",
          "text": [
            "Go to this URL in a browser: https://accounts.google.com/o/oauth2/auth?client_id=947318989803-6bn6qk8qdgf4n4g3pfee6491hc0brc4i.apps.googleusercontent.com&redirect_uri=urn%3Aietf%3Awg%3Aoauth%3A2.0%3Aoob&scope=email%20https%3A%2F%2Fwww.googleapis.com%2Fauth%2Fdocs.test%20https%3A%2F%2Fwww.googleapis.com%2Fauth%2Fdrive%20https%3A%2F%2Fwww.googleapis.com%2Fauth%2Fdrive.photos.readonly%20https%3A%2F%2Fwww.googleapis.com%2Fauth%2Fpeopleapi.readonly&response_type=code\n",
            "\n",
            "Enter your authorization code:\n",
            "··········\n",
            "Mounted at /content/drive\n"
          ],
          "name": "stdout"
        }
      ]
    },
    {
      "cell_type": "code",
      "metadata": {
        "id": "OQzVksBqxK0c",
        "colab_type": "code",
        "colab": {}
      },
      "source": [
        "# can multiply matrices\n",
        "# same as np.dot(a.transpose(), b)\n",
        "# a is implicitly transposed during the calculation\n",
        "def ft_dot(a, b):\n",
        "    result = 0\n",
        "    for i in range(len(a)):\n",
        "        result += a[i] * b[i]   \n",
        "    return result"
      ],
      "execution_count": 0,
      "outputs": []
    },
    {
      "cell_type": "code",
      "metadata": {
        "id": "PJ8tOVEkyDYZ",
        "colab_type": "code",
        "colab": {}
      },
      "source": [
        "class Perceptron:\n",
        "    def __init__(self, lr):\n",
        "        self.W = None\n",
        "        self.lr = lr\n",
        "        self.stats = list()\n",
        "\n",
        "    def predict(self, X):\n",
        "        return 1 if (ft_dot(self.W, X) >= 0.0) else 0\n",
        "    \n",
        "    def _train_epoch(self, X, y, epoch, verbose):\n",
        "        epoch_errors = 0\n",
        "        for xi, yi in zip(X, y):\n",
        "            tmp = self.lr * (yi - self.predict(xi))\n",
        "            self.W += tmp * xi\n",
        "            epoch_errors += int(tmp != 0.0)\n",
        "        if verbose and epoch % 1 == 0:\n",
        "            print('Epoch {}: {} errors'.format(epoch, epoch_errors))\n",
        "        self.stats.append((epoch, epoch_errors, self.W))\n",
        "        return epoch_errors\n",
        "    \n",
        "    def train(self, X, y, epochs, verbose=False, seed=None):\n",
        "        if seed:\n",
        "            random.seed(seed)\n",
        "        if self.W is None:\n",
        "            self.W = [0.0001 * random.uniform(-1, 1) for i in range(X.shape[1])]\n",
        "        epoch = 0\n",
        "        while True:\n",
        "            epoch_errors = self._train_epoch(X, y, epoch, verbose)\n",
        "            epoch += 1\n",
        "            if epochs != 0 and epoch == epochs:\n",
        "                break\n",
        "            elif epochs == 0 and epoch_errors == 0: # train until no errors\n",
        "                break        \n",
        "        return self.stats"
      ],
      "execution_count": 0,
      "outputs": []
    },
    {
      "cell_type": "code",
      "metadata": {
        "id": "A4zXDBlTxKvb",
        "colab_type": "code",
        "colab": {}
      },
      "source": [
        "good_threshold = 8\n",
        "bad_threshold = 3\n",
        "# ONLY SELECT WINES THAT MEET THE THRESHOLDS\n",
        "selected_wine_data = wine_data[(wine_data['quality'] >= good_threshold) | (wine_data['quality'] <= bad_threshold)]\n",
        "# ADD A COLUMN Y FOR BINARY CLASSIFICATION\n",
        "selected_wine_data = selected_wine_data.assign(y = pd.Series(selected_wine_data['quality'] >= good_threshold))\n",
        "\n",
        "X = selected_wine_data.loc[:, ['volatile acidity', 'pH', 'alcohol']]\n",
        "X = X.reset_index(drop=True)\n",
        "X.insert(0, 'x0', 1) # add a column of 1s in the first column\n",
        "y = selected_wine_data.loc[:, ['y']]\n",
        "y = y.reset_index(drop=True)"
      ],
      "execution_count": 0,
      "outputs": []
    },
    {
      "cell_type": "code",
      "metadata": {
        "id": "-4JmYjvKySY4",
        "colab_type": "code",
        "outputId": "ca505ef3-be4e-4cf8-a813-e878885106c8",
        "colab": {
          "base_uri": "https://localhost:8080/",
          "height": 84
        }
      },
      "source": [
        "p = Perceptron(lr=1.0)\n",
        "stats = p.train(X.values, y.values, 0, verbose=True, seed=42)"
      ],
      "execution_count": 8,
      "outputs": [
        {
          "output_type": "stream",
          "text": [
            "Epoch 0: 13 errors\n",
            "Epoch 1: 13 errors\n",
            "Epoch 2: 5 errors\n",
            "Epoch 3: 0 errors\n"
          ],
          "name": "stdout"
        }
      ]
    },
    {
      "cell_type": "code",
      "metadata": {
        "id": "KZCJoLYnDyOq",
        "colab_type": "code",
        "outputId": "43376f57-694e-4271-f0fb-69e7916d5f02",
        "colab": {
          "base_uri": "https://localhost:8080/",
          "height": 84
        }
      },
      "source": [
        "stats"
      ],
      "execution_count": 9,
      "outputs": [
        {
          "output_type": "execute_result",
          "data": {
            "text/plain": [
              "[(0, 13, array([ -2.99997211,  -9.635095  , -10.37004499,   4.09994464])),\n",
              " (1, 13, array([ -2.99997211,  -9.635095  , -10.37004499,   4.09994464])),\n",
              " (2, 5, array([ -2.99997211,  -9.635095  , -10.37004499,   4.09994464])),\n",
              " (3, 0, array([ -2.99997211,  -9.635095  , -10.37004499,   4.09994464]))]"
            ]
          },
          "metadata": {
            "tags": []
          },
          "execution_count": 9
        }
      ]
    },
    {
      "cell_type": "code",
      "metadata": {
        "id": "brJKsv61apV3",
        "colab_type": "code",
        "colab": {}
      },
      "source": [
        "def f(intercept, slope1, slope2, a, b):\n",
        "  return intercept + slope1 * a + slope2 * b"
      ],
      "execution_count": 0,
      "outputs": []
    },
    {
      "cell_type": "code",
      "metadata": {
        "id": "k3H7VTbDdvdR",
        "colab_type": "code",
        "colab": {}
      },
      "source": [
        "def plot_3d(stats, X, y):\n",
        "  fig = plt.figure()\n",
        "  #ax = fig.add_subplot(111, projection='3d')\n",
        "  ax = fig.gca(projection=\"3d\")\n",
        "\n",
        "  # draw scatter points\n",
        "  good_wines = X[y['y'] == True]\n",
        "  bad_wines = X[y['y'] == False]\n",
        "\n",
        "  x1 = good_wines.loc[:, features[0]]\n",
        "  y1 = good_wines.loc[:, features[1]]\n",
        "  z1 = good_wines.loc[:, features[2]]\n",
        "  ax.scatter(x1, y1, z1, c='g', marker='o')\n",
        "\n",
        "  x2 = bad_wines.loc[:, features[0]]\n",
        "  y2 = bad_wines.loc[:, features[1]]\n",
        "  z2 = bad_wines.loc[:, features[2]]\n",
        "  ax.scatter(x2, y2, z2, c='r', marker='o')\n",
        "\n",
        "  # draw hyperplane\n",
        "  w0 = stats[-1][2][0]\n",
        "  w1 = stats[-1][2][2]\n",
        "  w2 = stats[-1][2][3]\n",
        "  w3 = stats[-1][2][1]\n",
        "\n",
        "  intercept = -w0/w3\n",
        "  slope1 = -w1/w3\n",
        "  slope2 = -w2/w3\n",
        "\n",
        "  xmin = X.loc[:, features[0]].min()\n",
        "  xmax = X.loc[:, features[0]].max()\n",
        "  ymin = X.loc[:, features[1]].min()\n",
        "  ymax = X.loc[:, features[1]].max()\n",
        "\n",
        "  ax.set_xlim(xmin, xmax)\n",
        "  ax.set_ylim(ymin, ymax)\n",
        "\n",
        "  units = 10\n",
        "  #a = np.linspace(0, 2, units)\n",
        "  #b = np.linspace(2, 4, units)\n",
        "  a = [xmin + ((xmax - xmin)/units) * i for i in range(units)]\n",
        "  b = [ymin + ((ymax - ymin)/units) * i for i in range(units)]\n",
        "\n",
        "  A, B = np.meshgrid(a, b)\n",
        "  C = f(intercept, slope1, slope2, A, B)\n",
        "  ax.plot_wireframe(A, B, C, color='black')\n",
        "\n",
        "  ax.set_xlabel('X Label {}'.format(X.columns[1]))\n",
        "  ax.set_ylabel('Y Label {}'.format(X.columns[2]))\n",
        "  ax.set_zlabel('Z Label {}'.format(X.columns[3]))\n",
        "\n",
        "  # rotation\n",
        "  print(ax.azim)\n",
        "  ax.view_init(azim=45)\n",
        "\n",
        "  plt.show()"
      ],
      "execution_count": 0,
      "outputs": []
    },
    {
      "cell_type": "code",
      "metadata": {
        "id": "onhlIznXq9d0",
        "colab_type": "code",
        "outputId": "9da9a773-46eb-4e3f-dc59-9cc68d2e0230",
        "colab": {
          "base_uri": "https://localhost:8080/",
          "height": 265
        }
      },
      "source": [
        "features = ['pH', 'alcohol', 'volatile acidity']\n",
        "plot_3d(stats, X, y)"
      ],
      "execution_count": 12,
      "outputs": [
        {
          "output_type": "stream",
          "text": [
            "-60\n"
          ],
          "name": "stdout"
        },
        {
          "output_type": "display_data",
          "data": {
            "image/png": "[encoded data removed]",
            "text/plain": [
              "<Figure size 432x288 with 1 Axes>"
            ]
          },
          "metadata": {
            "tags": []
          }
        }
      ]
    },
    {
      "cell_type": "code",
      "metadata": {
        "id": "MXLk2Wo2q9av",
        "colab_type": "code",
        "colab": {}
      },
      "source": [
        ""
      ],
      "execution_count": 0,
      "outputs": []
    },
    {
      "cell_type": "code",
      "metadata": {
        "id": "asio-wlnq9XO",
        "colab_type": "code",
        "colab": {}
      },
      "source": [
        ""
      ],
      "execution_count": 0,
      "outputs": []
    },
    {
      "cell_type": "code",
      "metadata": {
        "id": "o0ylAR5Iq9Tx",
        "colab_type": "code",
        "colab": {}
      },
      "source": [
        ""
      ],
      "execution_count": 0,
      "outputs": []
    },
    {
      "cell_type": "code",
      "metadata": {
        "id": "9gsrfhR8q9Qv",
        "colab_type": "code",
        "colab": {}
      },
      "source": [
        ""
      ],
      "execution_count": 0,
      "outputs": []
    },
    {
      "cell_type": "code",
      "metadata": {
        "id": "tcx8F3EXq9NX",
        "colab_type": "code",
        "colab": {}
      },
      "source": [
        ""
      ],
      "execution_count": 0,
      "outputs": []
    },
    {
      "cell_type": "code",
      "metadata": {
        "id": "TX0ZIZ6Rq9KD",
        "colab_type": "code",
        "colab": {}
      },
      "source": [
        ""
      ],
      "execution_count": 0,
      "outputs": []
    },
    {
      "cell_type": "code",
      "metadata": {
        "id": "Y2mrEx3jq9Gc",
        "colab_type": "code",
        "colab": {}
      },
      "source": [
        ""
      ],
      "execution_count": 0,
      "outputs": []
    },
    {
      "cell_type": "code",
      "metadata": {
        "id": "ZXrlIXXI2Of-",
        "colab_type": "code",
        "colab": {}
      },
      "source": [
        ""
      ],
      "execution_count": 0,
      "outputs": []
    },
    {
      "cell_type": "markdown",
      "metadata": {
        "id": "Rq2Nxuq9dcKM",
        "colab_type": "text"
      },
      "source": [
        "How to get and set rotation angle of 3D plot in Matplotlib\n",
        "\n",
        "https://codeyarns.com/2014/10/27/how-to-get-and-set-rotation-angle-of-3d-plot-in-matplotlib/"
      ]
    },
    {
      "cell_type": "code",
      "metadata": {
        "id": "oV-wVwd5yEDR",
        "colab_type": "code",
        "colab": {}
      },
      "source": [
        ""
      ],
      "execution_count": 0,
      "outputs": []
    },
    {
      "cell_type": "code",
      "metadata": {
        "id": "icPMJUb7yEGp",
        "colab_type": "code",
        "colab": {}
      },
      "source": [
        ""
      ],
      "execution_count": 0,
      "outputs": []
    },
    {
      "cell_type": "code",
      "metadata": {
        "id": "GDpSLG2xtUCp",
        "colab_type": "code",
        "colab": {}
      },
      "source": [
        ""
      ],
      "execution_count": 0,
      "outputs": []
    }
  ]
}